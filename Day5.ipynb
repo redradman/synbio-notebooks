{
 "cells": [
  {
   "cell_type": "markdown",
   "metadata": {
    "id": "VnKB9vl_-7aC"
   },
   "source": [
    "### LEARNING OBJECTIVES:\n",
    "1. Understand how to use the objects created using cobrapy.\n",
    "  - Reactions, metabolites and genes.\n",
    "2. Perform simulations and comprehend the solution provided.\n",
    "3. Add flux constraints.\n",
    " - How to use models for investigating biological systems.\n",
    "\n"
   ]
  },
  {
   "cell_type": "markdown",
   "metadata": {
    "id": "LU28hvEYUXHl"
   },
   "source": [
    "## Install these packages to perform the simulations"
   ]
  },
  {
   "cell_type": "markdown",
   "metadata": {
    "id": "Qy4yYXu8XMz6"
   },
   "source": [
    "We will use a few number of packages to work with models and simulation data.\n",
    "\n",
    "1. cobrapy: <br>\n",
    "Ebrahim, A., Lerman, J. A., Palsson, B. O., & Hyduke, D. R. (2013). COBRApy: constraints-based reconstruction and analysis for python. BMC systems biology, 7(1), 1-6.\n",
    "\n",
    "2. cameo: <br>\n",
    "Cardoso, J. G., Jensen, K., Lieven, C., Lærke Hansen, A. S., Galkina, S., Beber, M., ... & Sonnenschein, N. (2018). Cameo: a Python library for computer aided metabolic engineering and optimization of cell factories. ACS synthetic biology, 7(4), 1163-1166.\n"
   ]
  },
  {
   "cell_type": "code",
   "execution_count": 1,
   "metadata": {
    "colab": {
     "base_uri": "https://localhost:8080/"
    },
    "id": "OAWrGJGUTEn5",
    "outputId": "1cbc8c50-dc60-4db1-abe9-8c7d3a04ab00"
   },
   "outputs": [
    {
     "name": "stdout",
     "output_type": "stream",
     "text": [
      "Requirement already satisfied: depinfo==1.7.0 in /Library/Frameworks/Python.framework/Versions/3.10/lib/python3.10/site-packages (1.7.0)\n",
      "Requirement already satisfied: cobra==0.17.0 in /Library/Frameworks/Python.framework/Versions/3.10/lib/python3.10/site-packages (0.17.0)\n",
      "Requirement already satisfied: future in /Library/Frameworks/Python.framework/Versions/3.10/lib/python3.10/site-packages (from cobra==0.17.0) (0.18.3)\n",
      "Requirement already satisfied: ruamel.yaml>=0.16 in /Library/Frameworks/Python.framework/Versions/3.10/lib/python3.10/site-packages (from cobra==0.17.0) (0.17.21)\n",
      "Requirement already satisfied: depinfo in /Library/Frameworks/Python.framework/Versions/3.10/lib/python3.10/site-packages (from cobra==0.17.0) (1.7.0)\n",
      "Requirement already satisfied: six in /Library/Frameworks/Python.framework/Versions/3.10/lib/python3.10/site-packages (from cobra==0.17.0) (1.16.0)\n",
      "Requirement already satisfied: swiglpk in /Library/Frameworks/Python.framework/Versions/3.10/lib/python3.10/site-packages (from cobra==0.17.0) (5.0.8)\n",
      "Requirement already satisfied: optlang>=1.4.2 in /Library/Frameworks/Python.framework/Versions/3.10/lib/python3.10/site-packages (from cobra==0.17.0) (1.6.1)\n",
      "Requirement already satisfied: numpy>=1.13 in /Library/Frameworks/Python.framework/Versions/3.10/lib/python3.10/site-packages (from cobra==0.17.0) (1.23.5)\n",
      "Requirement already satisfied: pandas>=0.17.0 in /Library/Frameworks/Python.framework/Versions/3.10/lib/python3.10/site-packages (from cobra==0.17.0) (1.5.2)\n",
      "Requirement already satisfied: python-libsbml-experimental==5.18.0 in /Library/Frameworks/Python.framework/Versions/3.10/lib/python3.10/site-packages (from cobra==0.17.0) (5.18.0)\n",
      "Requirement already satisfied: sympy>=1.0 in /Library/Frameworks/Python.framework/Versions/3.10/lib/python3.10/site-packages (from optlang>=1.4.2->cobra==0.17.0) (1.6)\n",
      "Requirement already satisfied: python-dateutil>=2.8.1 in /Library/Frameworks/Python.framework/Versions/3.10/lib/python3.10/site-packages (from pandas>=0.17.0->cobra==0.17.0) (2.8.2)\n",
      "Requirement already satisfied: pytz>=2020.1 in /Library/Frameworks/Python.framework/Versions/3.10/lib/python3.10/site-packages (from pandas>=0.17.0->cobra==0.17.0) (2022.7)\n",
      "Requirement already satisfied: ruamel.yaml.clib>=0.2.6 in /Library/Frameworks/Python.framework/Versions/3.10/lib/python3.10/site-packages (from ruamel.yaml>=0.16->cobra==0.17.0) (0.2.7)\n",
      "Requirement already satisfied: mpmath>=0.19 in /Library/Frameworks/Python.framework/Versions/3.10/lib/python3.10/site-packages (from sympy>=1.0->optlang>=1.4.2->cobra==0.17.0) (1.0.0)\n",
      "Requirement already satisfied: cameo in /Library/Frameworks/Python.framework/Versions/3.10/lib/python3.10/site-packages (0.13.6)\n",
      "Requirement already satisfied: scipy>=0.14.0 in /Library/Frameworks/Python.framework/Versions/3.10/lib/python3.10/site-packages (from cameo) (1.10.0)\n",
      "Requirement already satisfied: inspyred>=1.0 in /Library/Frameworks/Python.framework/Versions/3.10/lib/python3.10/site-packages (from cameo) (1.0.1)\n",
      "Requirement already satisfied: palettable>=2.1.1 in /Library/Frameworks/Python.framework/Versions/3.10/lib/python3.10/site-packages (from cameo) (3.3.0)\n",
      "Requirement already satisfied: IProgress>=0.4 in /Library/Frameworks/Python.framework/Versions/3.10/lib/python3.10/site-packages (from cameo) (0.4)\n",
      "Requirement already satisfied: openpyxl>=2.4.5 in /Library/Frameworks/Python.framework/Versions/3.10/lib/python3.10/site-packages (from cameo) (3.1.0)\n",
      "Requirement already satisfied: optlang>=1.4.2 in /Library/Frameworks/Python.framework/Versions/3.10/lib/python3.10/site-packages (from cameo) (1.6.1)\n",
      "Requirement already satisfied: numpy>=1.9.1 in /Library/Frameworks/Python.framework/Versions/3.10/lib/python3.10/site-packages (from cameo) (1.23.5)\n",
      "Requirement already satisfied: requests>=2.10.0 in /Library/Frameworks/Python.framework/Versions/3.10/lib/python3.10/site-packages (from cameo) (2.26.0)\n",
      "Requirement already satisfied: cobra>=0.11.1 in /Library/Frameworks/Python.framework/Versions/3.10/lib/python3.10/site-packages (from cameo) (0.17.0)\n",
      "Requirement already satisfied: pandas>=1.1.3 in /Library/Frameworks/Python.framework/Versions/3.10/lib/python3.10/site-packages (from cameo) (1.5.2)\n",
      "Requirement already satisfied: ordered-set>=1.2 in /Library/Frameworks/Python.framework/Versions/3.10/lib/python3.10/site-packages (from cameo) (4.1.0)\n",
      "Requirement already satisfied: click>=6.7 in /Library/Frameworks/Python.framework/Versions/3.10/lib/python3.10/site-packages (from cameo) (8.1.3)\n",
      "Requirement already satisfied: escher>=1.1.2 in /Library/Frameworks/Python.framework/Versions/3.10/lib/python3.10/site-packages (from cameo) (1.7.3)\n",
      "Requirement already satisfied: blessings>=1.5.1 in /Library/Frameworks/Python.framework/Versions/3.10/lib/python3.10/site-packages (from cameo) (1.7)\n",
      "Requirement already satisfied: lazy-object-proxy>=1.2.0 in /Library/Frameworks/Python.framework/Versions/3.10/lib/python3.10/site-packages (from cameo) (1.9.0)\n",
      "Requirement already satisfied: future>=0.15.2 in /Library/Frameworks/Python.framework/Versions/3.10/lib/python3.10/site-packages (from cameo) (0.18.3)\n",
      "Requirement already satisfied: numexpr>=2.4 in /Library/Frameworks/Python.framework/Versions/3.10/lib/python3.10/site-packages (from cameo) (2.8.4)\n",
      "Requirement already satisfied: gnomic==1.0.1 in /Library/Frameworks/Python.framework/Versions/3.10/lib/python3.10/site-packages (from cameo) (1.0.1)\n",
      "Requirement already satisfied: networkx>=2.4 in /Library/Frameworks/Python.framework/Versions/3.10/lib/python3.10/site-packages (from cameo) (3.0)\n",
      "Requirement already satisfied: grako==3.18.1 in /Library/Frameworks/Python.framework/Versions/3.10/lib/python3.10/site-packages (from gnomic==1.0.1->cameo) (3.18.1)\n",
      "Requirement already satisfied: six>=1.8.0 in /Library/Frameworks/Python.framework/Versions/3.10/lib/python3.10/site-packages (from gnomic==1.0.1->cameo) (1.16.0)\n",
      "Requirement already satisfied: depinfo in /Library/Frameworks/Python.framework/Versions/3.10/lib/python3.10/site-packages (from cobra>=0.11.1->cameo) (1.7.0)\n",
      "Requirement already satisfied: ruamel.yaml>=0.16 in /Library/Frameworks/Python.framework/Versions/3.10/lib/python3.10/site-packages (from cobra>=0.11.1->cameo) (0.17.21)\n",
      "Requirement already satisfied: python-libsbml-experimental==5.18.0 in /Library/Frameworks/Python.framework/Versions/3.10/lib/python3.10/site-packages (from cobra>=0.11.1->cameo) (5.18.0)\n",
      "Requirement already satisfied: swiglpk in /Library/Frameworks/Python.framework/Versions/3.10/lib/python3.10/site-packages (from cobra>=0.11.1->cameo) (5.0.8)\n",
      "Requirement already satisfied: Jinja2<3,>=2.7.3 in /Library/Frameworks/Python.framework/Versions/3.10/lib/python3.10/site-packages (from escher>=1.1.2->cameo) (2.11.3)\n",
      "Requirement already satisfied: pytest<5,>=4.0.1 in /Library/Frameworks/Python.framework/Versions/3.10/lib/python3.10/site-packages (from escher>=1.1.2->cameo) (4.6.11)\n",
      "Requirement already satisfied: jsonschema<4,>=3.0.1 in /Library/Frameworks/Python.framework/Versions/3.10/lib/python3.10/site-packages (from escher>=1.1.2->cameo) (3.2.0)\n",
      "Requirement already satisfied: ipywidgets<8,>=7.4.0 in /Library/Frameworks/Python.framework/Versions/3.10/lib/python3.10/site-packages (from escher>=1.1.2->cameo) (7.7.2)\n",
      "Requirement already satisfied: et-xmlfile in /Library/Frameworks/Python.framework/Versions/3.10/lib/python3.10/site-packages (from openpyxl>=2.4.5->cameo) (1.1.0)\n",
      "Requirement already satisfied: sympy>=1.0 in /Library/Frameworks/Python.framework/Versions/3.10/lib/python3.10/site-packages (from optlang>=1.4.2->cameo) (1.6)\n",
      "Requirement already satisfied: pytz>=2020.1 in /Library/Frameworks/Python.framework/Versions/3.10/lib/python3.10/site-packages (from pandas>=1.1.3->cameo) (2022.7)\n",
      "Requirement already satisfied: python-dateutil>=2.8.1 in /Library/Frameworks/Python.framework/Versions/3.10/lib/python3.10/site-packages (from pandas>=1.1.3->cameo) (2.8.2)\n",
      "Requirement already satisfied: urllib3<1.27,>=1.21.1 in /Library/Frameworks/Python.framework/Versions/3.10/lib/python3.10/site-packages (from requests>=2.10.0->cameo) (1.26.7)\n",
      "Requirement already satisfied: charset-normalizer~=2.0.0 in /Library/Frameworks/Python.framework/Versions/3.10/lib/python3.10/site-packages (from requests>=2.10.0->cameo) (2.0.9)\n",
      "Requirement already satisfied: certifi>=2017.4.17 in /Library/Frameworks/Python.framework/Versions/3.10/lib/python3.10/site-packages (from requests>=2.10.0->cameo) (2021.10.8)\n",
      "Requirement already satisfied: idna<4,>=2.5 in /Library/Frameworks/Python.framework/Versions/3.10/lib/python3.10/site-packages (from requests>=2.10.0->cameo) (2.10)\n",
      "Requirement already satisfied: ipython>=4.0.0 in /Library/Frameworks/Python.framework/Versions/3.10/lib/python3.10/site-packages (from ipywidgets<8,>=7.4.0->escher>=1.1.2->cameo) (8.6.0)\n",
      "Requirement already satisfied: ipython-genutils~=0.2.0 in /Library/Frameworks/Python.framework/Versions/3.10/lib/python3.10/site-packages (from ipywidgets<8,>=7.4.0->escher>=1.1.2->cameo) (0.2.0)\n",
      "Requirement already satisfied: widgetsnbextension~=3.6.0 in /Library/Frameworks/Python.framework/Versions/3.10/lib/python3.10/site-packages (from ipywidgets<8,>=7.4.0->escher>=1.1.2->cameo) (3.6.1)\n",
      "Requirement already satisfied: traitlets>=4.3.1 in /Library/Frameworks/Python.framework/Versions/3.10/lib/python3.10/site-packages (from ipywidgets<8,>=7.4.0->escher>=1.1.2->cameo) (5.5.0)\n",
      "Requirement already satisfied: ipykernel>=4.5.1 in /Library/Frameworks/Python.framework/Versions/3.10/lib/python3.10/site-packages (from ipywidgets<8,>=7.4.0->escher>=1.1.2->cameo) (6.21.1)\n",
      "Requirement already satisfied: jupyterlab-widgets<3,>=1.0.0 in /Library/Frameworks/Python.framework/Versions/3.10/lib/python3.10/site-packages (from ipywidgets<8,>=7.4.0->escher>=1.1.2->cameo) (1.1.1)\n",
      "Requirement already satisfied: MarkupSafe>=0.23 in /Library/Frameworks/Python.framework/Versions/3.10/lib/python3.10/site-packages (from Jinja2<3,>=2.7.3->escher>=1.1.2->cameo) (2.0.1)\n",
      "Requirement already satisfied: pyrsistent>=0.14.0 in /Library/Frameworks/Python.framework/Versions/3.10/lib/python3.10/site-packages (from jsonschema<4,>=3.0.1->escher>=1.1.2->cameo) (0.18.0)\n",
      "Requirement already satisfied: setuptools in /Library/Frameworks/Python.framework/Versions/3.10/lib/python3.10/site-packages (from jsonschema<4,>=3.0.1->escher>=1.1.2->cameo) (50.3.2)\n",
      "Requirement already satisfied: attrs>=17.4.0 in /Library/Frameworks/Python.framework/Versions/3.10/lib/python3.10/site-packages (from jsonschema<4,>=3.0.1->escher>=1.1.2->cameo) (21.3.0)\n",
      "Requirement already satisfied: pluggy<1.0,>=0.12 in /Library/Frameworks/Python.framework/Versions/3.10/lib/python3.10/site-packages (from pytest<5,>=4.0.1->escher>=1.1.2->cameo) (0.13.1)\n",
      "Requirement already satisfied: py>=1.5.0 in /Library/Frameworks/Python.framework/Versions/3.10/lib/python3.10/site-packages (from pytest<5,>=4.0.1->escher>=1.1.2->cameo) (1.11.0)\n",
      "Requirement already satisfied: more-itertools>=4.0.0 in /Library/Frameworks/Python.framework/Versions/3.10/lib/python3.10/site-packages (from pytest<5,>=4.0.1->escher>=1.1.2->cameo) (8.13.0)\n",
      "Requirement already satisfied: wcwidth in /Library/Frameworks/Python.framework/Versions/3.10/lib/python3.10/site-packages (from pytest<5,>=4.0.1->escher>=1.1.2->cameo) (0.2.5)\n",
      "Requirement already satisfied: atomicwrites>=1.0 in /Library/Frameworks/Python.framework/Versions/3.10/lib/python3.10/site-packages (from pytest<5,>=4.0.1->escher>=1.1.2->cameo) (1.4.1)\n",
      "Requirement already satisfied: packaging in /Library/Frameworks/Python.framework/Versions/3.10/lib/python3.10/site-packages (from pytest<5,>=4.0.1->escher>=1.1.2->cameo) (21.3)\n",
      "Requirement already satisfied: ruamel.yaml.clib>=0.2.6 in /Library/Frameworks/Python.framework/Versions/3.10/lib/python3.10/site-packages (from ruamel.yaml>=0.16->cobra>=0.11.1->cameo) (0.2.7)\n",
      "Requirement already satisfied: mpmath>=0.19 in /Library/Frameworks/Python.framework/Versions/3.10/lib/python3.10/site-packages (from sympy>=1.0->optlang>=1.4.2->cameo) (1.0.0)\n",
      "Requirement already satisfied: tornado>=6.1 in /Library/Frameworks/Python.framework/Versions/3.10/lib/python3.10/site-packages (from ipykernel>=4.5.1->ipywidgets<8,>=7.4.0->escher>=1.1.2->cameo) (6.2)\n",
      "Requirement already satisfied: matplotlib-inline>=0.1 in /Library/Frameworks/Python.framework/Versions/3.10/lib/python3.10/site-packages (from ipykernel>=4.5.1->ipywidgets<8,>=7.4.0->escher>=1.1.2->cameo) (0.1.3)\n",
      "Requirement already satisfied: nest-asyncio in /Library/Frameworks/Python.framework/Versions/3.10/lib/python3.10/site-packages (from ipykernel>=4.5.1->ipywidgets<8,>=7.4.0->escher>=1.1.2->cameo) (1.5.4)\n",
      "Requirement already satisfied: debugpy>=1.6.5 in /Library/Frameworks/Python.framework/Versions/3.10/lib/python3.10/site-packages (from ipykernel>=4.5.1->ipywidgets<8,>=7.4.0->escher>=1.1.2->cameo) (1.6.6)\n",
      "Requirement already satisfied: appnope in /Library/Frameworks/Python.framework/Versions/3.10/lib/python3.10/site-packages (from ipykernel>=4.5.1->ipywidgets<8,>=7.4.0->escher>=1.1.2->cameo) (0.1.2)\n",
      "Requirement already satisfied: comm>=0.1.1 in /Library/Frameworks/Python.framework/Versions/3.10/lib/python3.10/site-packages (from ipykernel>=4.5.1->ipywidgets<8,>=7.4.0->escher>=1.1.2->cameo) (0.1.2)\n",
      "Requirement already satisfied: psutil in /Library/Frameworks/Python.framework/Versions/3.10/lib/python3.10/site-packages (from ipykernel>=4.5.1->ipywidgets<8,>=7.4.0->escher>=1.1.2->cameo) (5.9.4)\n",
      "Requirement already satisfied: jupyter-client>=6.1.12 in /Library/Frameworks/Python.framework/Versions/3.10/lib/python3.10/site-packages (from ipykernel>=4.5.1->ipywidgets<8,>=7.4.0->escher>=1.1.2->cameo) (7.4.7)\n",
      "Requirement already satisfied: pyzmq>=17 in /Library/Frameworks/Python.framework/Versions/3.10/lib/python3.10/site-packages (from ipykernel>=4.5.1->ipywidgets<8,>=7.4.0->escher>=1.1.2->cameo) (24.0.1)\n",
      "Requirement already satisfied: jupyter-core!=5.0.*,>=4.12 in /Library/Frameworks/Python.framework/Versions/3.10/lib/python3.10/site-packages (from ipykernel>=4.5.1->ipywidgets<8,>=7.4.0->escher>=1.1.2->cameo) (5.2.0)\n",
      "Requirement already satisfied: decorator in /Library/Frameworks/Python.framework/Versions/3.10/lib/python3.10/site-packages (from ipython>=4.0.0->ipywidgets<8,>=7.4.0->escher>=1.1.2->cameo) (5.1.0)\n",
      "Requirement already satisfied: jedi>=0.16 in /Library/Frameworks/Python.framework/Versions/3.10/lib/python3.10/site-packages (from ipython>=4.0.0->ipywidgets<8,>=7.4.0->escher>=1.1.2->cameo) (0.18.1)\n",
      "Requirement already satisfied: backcall in /Library/Frameworks/Python.framework/Versions/3.10/lib/python3.10/site-packages (from ipython>=4.0.0->ipywidgets<8,>=7.4.0->escher>=1.1.2->cameo) (0.2.0)\n",
      "Requirement already satisfied: stack-data in /Library/Frameworks/Python.framework/Versions/3.10/lib/python3.10/site-packages (from ipython>=4.0.0->ipywidgets<8,>=7.4.0->escher>=1.1.2->cameo) (0.6.1)\n",
      "Requirement already satisfied: pexpect>4.3 in /Library/Frameworks/Python.framework/Versions/3.10/lib/python3.10/site-packages (from ipython>=4.0.0->ipywidgets<8,>=7.4.0->escher>=1.1.2->cameo) (4.8.0)\n",
      "Requirement already satisfied: pygments>=2.4.0 in /Library/Frameworks/Python.framework/Versions/3.10/lib/python3.10/site-packages (from ipython>=4.0.0->ipywidgets<8,>=7.4.0->escher>=1.1.2->cameo) (2.10.0)\n",
      "Requirement already satisfied: prompt-toolkit<3.1.0,>3.0.1 in /Library/Frameworks/Python.framework/Versions/3.10/lib/python3.10/site-packages (from ipython>=4.0.0->ipywidgets<8,>=7.4.0->escher>=1.1.2->cameo) (3.0.24)\n",
      "Requirement already satisfied: pickleshare in /Library/Frameworks/Python.framework/Versions/3.10/lib/python3.10/site-packages (from ipython>=4.0.0->ipywidgets<8,>=7.4.0->escher>=1.1.2->cameo) (0.7.5)\n",
      "Requirement already satisfied: notebook>=4.4.1 in /Library/Frameworks/Python.framework/Versions/3.10/lib/python3.10/site-packages (from widgetsnbextension~=3.6.0->ipywidgets<8,>=7.4.0->escher>=1.1.2->cameo) (6.5.2)\n",
      "Requirement already satisfied: pyparsing!=3.0.5,>=2.0.2 in /Library/Frameworks/Python.framework/Versions/3.10/lib/python3.10/site-packages (from packaging->pytest<5,>=4.0.1->escher>=1.1.2->cameo) (3.0.6)\n",
      "Requirement already satisfied: parso<0.9.0,>=0.8.0 in /Library/Frameworks/Python.framework/Versions/3.10/lib/python3.10/site-packages (from jedi>=0.16->ipython>=4.0.0->ipywidgets<8,>=7.4.0->escher>=1.1.2->cameo) (0.8.3)\n",
      "Requirement already satisfied: entrypoints in /Library/Frameworks/Python.framework/Versions/3.10/lib/python3.10/site-packages (from jupyter-client>=6.1.12->ipykernel>=4.5.1->ipywidgets<8,>=7.4.0->escher>=1.1.2->cameo) (0.3)\n",
      "Requirement already satisfied: platformdirs>=2.5 in /Library/Frameworks/Python.framework/Versions/3.10/lib/python3.10/site-packages (from jupyter-core!=5.0.*,>=4.12->ipykernel>=4.5.1->ipywidgets<8,>=7.4.0->escher>=1.1.2->cameo) (2.5.2)\n",
      "Requirement already satisfied: Send2Trash>=1.8.0 in /Library/Frameworks/Python.framework/Versions/3.10/lib/python3.10/site-packages (from notebook>=4.4.1->widgetsnbextension~=3.6.0->ipywidgets<8,>=7.4.0->escher>=1.1.2->cameo) (1.8.0)\n",
      "Requirement already satisfied: terminado>=0.8.3 in /Library/Frameworks/Python.framework/Versions/3.10/lib/python3.10/site-packages (from notebook>=4.4.1->widgetsnbextension~=3.6.0->ipywidgets<8,>=7.4.0->escher>=1.1.2->cameo) (0.12.1)\n",
      "Requirement already satisfied: prometheus-client in /Library/Frameworks/Python.framework/Versions/3.10/lib/python3.10/site-packages (from notebook>=4.4.1->widgetsnbextension~=3.6.0->ipywidgets<8,>=7.4.0->escher>=1.1.2->cameo) (0.12.0)\n",
      "Requirement already satisfied: nbclassic>=0.4.7 in /Library/Frameworks/Python.framework/Versions/3.10/lib/python3.10/site-packages (from notebook>=4.4.1->widgetsnbextension~=3.6.0->ipywidgets<8,>=7.4.0->escher>=1.1.2->cameo) (0.4.7)\n",
      "Requirement already satisfied: nbformat in /Library/Frameworks/Python.framework/Versions/3.10/lib/python3.10/site-packages (from notebook>=4.4.1->widgetsnbextension~=3.6.0->ipywidgets<8,>=7.4.0->escher>=1.1.2->cameo) (5.7.0)\n",
      "Requirement already satisfied: nbconvert>=5 in /Library/Frameworks/Python.framework/Versions/3.10/lib/python3.10/site-packages (from notebook>=4.4.1->widgetsnbextension~=3.6.0->ipywidgets<8,>=7.4.0->escher>=1.1.2->cameo) (6.4.5)\n",
      "Requirement already satisfied: argon2-cffi in /Library/Frameworks/Python.framework/Versions/3.10/lib/python3.10/site-packages (from notebook>=4.4.1->widgetsnbextension~=3.6.0->ipywidgets<8,>=7.4.0->escher>=1.1.2->cameo) (21.3.0)\n",
      "Requirement already satisfied: ptyprocess>=0.5 in /Library/Frameworks/Python.framework/Versions/3.10/lib/python3.10/site-packages (from pexpect>4.3->ipython>=4.0.0->ipywidgets<8,>=7.4.0->escher>=1.1.2->cameo) (0.7.0)\n",
      "Requirement already satisfied: pure-eval in /Library/Frameworks/Python.framework/Versions/3.10/lib/python3.10/site-packages (from stack-data->ipython>=4.0.0->ipywidgets<8,>=7.4.0->escher>=1.1.2->cameo) (0.2.2)\n",
      "Requirement already satisfied: asttokens>=2.1.0 in /Library/Frameworks/Python.framework/Versions/3.10/lib/python3.10/site-packages (from stack-data->ipython>=4.0.0->ipywidgets<8,>=7.4.0->escher>=1.1.2->cameo) (2.1.0)\n",
      "Requirement already satisfied: executing>=1.2.0 in /Library/Frameworks/Python.framework/Versions/3.10/lib/python3.10/site-packages (from stack-data->ipython>=4.0.0->ipywidgets<8,>=7.4.0->escher>=1.1.2->cameo) (1.2.0)\n",
      "Requirement already satisfied: jupyter-server>=1.8 in /Library/Frameworks/Python.framework/Versions/3.10/lib/python3.10/site-packages (from nbclassic>=0.4.7->notebook>=4.4.1->widgetsnbextension~=3.6.0->ipywidgets<8,>=7.4.0->escher>=1.1.2->cameo) (1.21.0)\n",
      "Requirement already satisfied: notebook-shim>=0.1.0 in /Library/Frameworks/Python.framework/Versions/3.10/lib/python3.10/site-packages (from nbclassic>=0.4.7->notebook>=4.4.1->widgetsnbextension~=3.6.0->ipywidgets<8,>=7.4.0->escher>=1.1.2->cameo) (0.2.0)\n",
      "Requirement already satisfied: testpath in /Library/Frameworks/Python.framework/Versions/3.10/lib/python3.10/site-packages (from nbconvert>=5->notebook>=4.4.1->widgetsnbextension~=3.6.0->ipywidgets<8,>=7.4.0->escher>=1.1.2->cameo) (0.5.0)\n",
      "Requirement already satisfied: nbclient<0.6.0,>=0.5.0 in /Library/Frameworks/Python.framework/Versions/3.10/lib/python3.10/site-packages (from nbconvert>=5->notebook>=4.4.1->widgetsnbextension~=3.6.0->ipywidgets<8,>=7.4.0->escher>=1.1.2->cameo) (0.5.13)\n",
      "Requirement already satisfied: mistune<2,>=0.8.1 in /Library/Frameworks/Python.framework/Versions/3.10/lib/python3.10/site-packages (from nbconvert>=5->notebook>=4.4.1->widgetsnbextension~=3.6.0->ipywidgets<8,>=7.4.0->escher>=1.1.2->cameo) (0.8.4)\n",
      "Requirement already satisfied: beautifulsoup4 in /Library/Frameworks/Python.framework/Versions/3.10/lib/python3.10/site-packages (from nbconvert>=5->notebook>=4.4.1->widgetsnbextension~=3.6.0->ipywidgets<8,>=7.4.0->escher>=1.1.2->cameo) (4.11.1)\n",
      "Requirement already satisfied: bleach in /Library/Frameworks/Python.framework/Versions/3.10/lib/python3.10/site-packages (from nbconvert>=5->notebook>=4.4.1->widgetsnbextension~=3.6.0->ipywidgets<8,>=7.4.0->escher>=1.1.2->cameo) (4.1.0)\n",
      "Requirement already satisfied: pandocfilters>=1.4.1 in /Library/Frameworks/Python.framework/Versions/3.10/lib/python3.10/site-packages (from nbconvert>=5->notebook>=4.4.1->widgetsnbextension~=3.6.0->ipywidgets<8,>=7.4.0->escher>=1.1.2->cameo) (1.5.0)\n",
      "Requirement already satisfied: jupyterlab-pygments in /Library/Frameworks/Python.framework/Versions/3.10/lib/python3.10/site-packages (from nbconvert>=5->notebook>=4.4.1->widgetsnbextension~=3.6.0->ipywidgets<8,>=7.4.0->escher>=1.1.2->cameo) (0.2.2)\n",
      "Requirement already satisfied: defusedxml in /Library/Frameworks/Python.framework/Versions/3.10/lib/python3.10/site-packages (from nbconvert>=5->notebook>=4.4.1->widgetsnbextension~=3.6.0->ipywidgets<8,>=7.4.0->escher>=1.1.2->cameo) (0.7.1)\n",
      "Requirement already satisfied: fastjsonschema in /Library/Frameworks/Python.framework/Versions/3.10/lib/python3.10/site-packages (from nbformat->notebook>=4.4.1->widgetsnbextension~=3.6.0->ipywidgets<8,>=7.4.0->escher>=1.1.2->cameo) (2.16.2)\n",
      "Requirement already satisfied: argon2-cffi-bindings in /Library/Frameworks/Python.framework/Versions/3.10/lib/python3.10/site-packages (from argon2-cffi->notebook>=4.4.1->widgetsnbextension~=3.6.0->ipywidgets<8,>=7.4.0->escher>=1.1.2->cameo) (21.2.0)\n",
      "Requirement already satisfied: anyio<4,>=3.1.0 in /Library/Frameworks/Python.framework/Versions/3.10/lib/python3.10/site-packages (from jupyter-server>=1.8->nbclassic>=0.4.7->notebook>=4.4.1->widgetsnbextension~=3.6.0->ipywidgets<8,>=7.4.0->escher>=1.1.2->cameo) (3.6.2)\n",
      "Requirement already satisfied: websocket-client in /Library/Frameworks/Python.framework/Versions/3.10/lib/python3.10/site-packages (from jupyter-server>=1.8->nbclassic>=0.4.7->notebook>=4.4.1->widgetsnbextension~=3.6.0->ipywidgets<8,>=7.4.0->escher>=1.1.2->cameo) (1.4.1)\n",
      "Requirement already satisfied: cffi>=1.0.1 in /Library/Frameworks/Python.framework/Versions/3.10/lib/python3.10/site-packages (from argon2-cffi-bindings->argon2-cffi->notebook>=4.4.1->widgetsnbextension~=3.6.0->ipywidgets<8,>=7.4.0->escher>=1.1.2->cameo) (1.15.0)\n",
      "Requirement already satisfied: soupsieve>1.2 in /Library/Frameworks/Python.framework/Versions/3.10/lib/python3.10/site-packages (from beautifulsoup4->nbconvert>=5->notebook>=4.4.1->widgetsnbextension~=3.6.0->ipywidgets<8,>=7.4.0->escher>=1.1.2->cameo) (2.3.2.post1)\n",
      "Requirement already satisfied: webencodings in /Library/Frameworks/Python.framework/Versions/3.10/lib/python3.10/site-packages (from bleach->nbconvert>=5->notebook>=4.4.1->widgetsnbextension~=3.6.0->ipywidgets<8,>=7.4.0->escher>=1.1.2->cameo) (0.5.1)\n",
      "Requirement already satisfied: sniffio>=1.1 in /Library/Frameworks/Python.framework/Versions/3.10/lib/python3.10/site-packages (from anyio<4,>=3.1.0->jupyter-server>=1.8->nbclassic>=0.4.7->notebook>=4.4.1->widgetsnbextension~=3.6.0->ipywidgets<8,>=7.4.0->escher>=1.1.2->cameo) (1.2.0)\n",
      "Requirement already satisfied: pycparser in /Library/Frameworks/Python.framework/Versions/3.10/lib/python3.10/site-packages (from cffi>=1.0.1->argon2-cffi-bindings->argon2-cffi->notebook>=4.4.1->widgetsnbextension~=3.6.0->ipywidgets<8,>=7.4.0->escher>=1.1.2->cameo) (2.21)\n",
      "Done! 🎉 \n"
     ]
    }
   ],
   "source": [
    "!pip install depinfo==1.7.0 # this is required by both cobrapy and cameo\n",
    "!pip install cobra==0.17.0\n",
    "!pip install cameo\n",
    "# this automatically install cobrapy\n",
    "\n",
    "print(\"Done! 🎉 \")"
   ]
  },
  {
   "cell_type": "markdown",
   "metadata": {
    "id": "TkXhGCOOVNB9"
   },
   "source": [
    "##### Importing required packages"
   ]
  },
  {
   "cell_type": "code",
   "execution_count": 2,
   "metadata": {
    "id": "WBPMD2zIUGs9"
   },
   "outputs": [],
   "source": [
    "import cobra\n",
    "from cameo import models\n",
    "\n",
    "#for plotting\n",
    "import matplotlib\n",
    "from matplotlib import pyplot as plt\n",
    "\n",
    "#for working with dataframes\n",
    "import pandas as pd\n",
    "import numpy as np\n",
    "\n",
    "#for string pattern matching\n",
    "import re"
   ]
  },
  {
   "cell_type": "markdown",
   "metadata": {
    "id": "aL2Bbdla-7aF"
   },
   "source": [
    "#### Loading the *E. coli* model using cameo.models"
   ]
  },
  {
   "cell_type": "code",
   "execution_count": 3,
   "metadata": {
    "id": "2cAqVgg2V3oS"
   },
   "outputs": [],
   "source": [
    "eco_model = models.bigg.iML1515 #Latest Escherichia coli K-12 MG1655\n",
    "# Question: what does 1515 prefix in the model id mean?"
   ]
  },
  {
   "cell_type": "markdown",
   "metadata": {
    "id": "-b8L1NcT-7aH"
   },
   "source": [
    "### Working with cobrapy objects"
   ]
  },
  {
   "cell_type": "code",
   "execution_count": 4,
   "metadata": {
    "colab": {
     "base_uri": "https://localhost:8080/",
     "height": 168
    },
    "id": "NiAOPRaq-7aI",
    "outputId": "54adfd93-a3e5-4fad-8590-d354990ca340"
   },
   "outputs": [
    {
     "data": {
      "text/html": [
       "\n",
       "        <table>\n",
       "            <tr>\n",
       "                <td><strong>Name</strong></td>\n",
       "                <td>iML1515</td>\n",
       "            </tr><tr>\n",
       "                <td><strong>Memory address</strong></td>\n",
       "                <td>0x017f67e3e0</td>\n",
       "            </tr><tr>\n",
       "                <td><strong>Number of metabolites</strong></td>\n",
       "                <td>1877</td>\n",
       "            </tr><tr>\n",
       "                <td><strong>Number of reactions</strong></td>\n",
       "                <td>2712</td>\n",
       "            </tr><tr>\n",
       "                <td><strong>Number of groups</strong></td>\n",
       "                <td>0</td>\n",
       "            </tr><tr>\n",
       "                <td><strong>Objective expression</strong></td>\n",
       "                <td>1.0*BIOMASS_Ec_iML1515_core_75p37M - 1.0*BIOMASS_Ec_iML1515_core_75p37M_reverse_35685</td>\n",
       "            </tr><tr>\n",
       "                <td><strong>Compartments</strong></td>\n",
       "                <td>cytosol, extracellular space, periplasm</td>\n",
       "            </tr>\n",
       "          </table>"
      ],
      "text/plain": [
       "<Model iML1515 at 0x17f67e3e0>"
      ]
     },
     "execution_count": 4,
     "metadata": {},
     "output_type": "execute_result"
    }
   ],
   "source": [
    "#summary of the model object\n",
    "eco_model"
   ]
  },
  {
   "cell_type": "markdown",
   "metadata": {
    "id": "1-FJlKnC-7aI"
   },
   "source": [
    "#### How many reactions, metabolites, and genes are present in the model"
   ]
  },
  {
   "cell_type": "code",
   "execution_count": 5,
   "metadata": {
    "colab": {
     "base_uri": "https://localhost:8080/"
    },
    "id": "Q2iZ8NL8WvBP",
    "outputId": "55b8d256-aa4e-4106-ac74-5c8ae1879cc7"
   },
   "outputs": [
    {
     "name": "stdout",
     "output_type": "stream",
     "text": [
      "reactions: 2712; metabolites: 1877; genes: 1516\n"
     ]
    }
   ],
   "source": [
    "print('reactions: %s; metabolites: %s; genes: %s'%(len(eco_model.reactions), len(eco_model.metabolites), len(eco_model.genes)))\n",
    "\n",
    "# Why are there 1516 genes? We will answer this later."
   ]
  },
  {
   "cell_type": "markdown",
   "metadata": {
    "id": "6iMZ0W5v-7aJ"
   },
   "source": [
    "#### How to work with model components such as reactions, metabolites, genes?"
   ]
  },
  {
   "cell_type": "code",
   "execution_count": 6,
   "metadata": {
    "colab": {
     "base_uri": "https://localhost:8080/"
    },
    "id": "2RkSDniD-7aJ",
    "outputId": "9db8ed9d-2276-4e11-c24f-3f5db5b8de5b"
   },
   "outputs": [
    {
     "name": "stdout",
     "output_type": "stream",
     "text": [
      "AKGDH\t2-Oxogluterate dehydrogenase\takg_c + coa_c + nad_c --> co2_c + nadh_c + succoa_c\n"
     ]
    }
   ],
   "source": [
    "# creating a reaction object\n",
    "rxn_akgdh = eco_model.reactions.get_by_id('AKGDH')\n",
    "# print the identifier, name, and reaction string for the reaction\n",
    "print(f'{rxn_akgdh.id}\\t{rxn_akgdh.name}\\t{rxn_akgdh.reaction}')"
   ]
  },
  {
   "cell_type": "markdown",
   "metadata": {
    "id": "fMlZig0B-7aJ"
   },
   "source": [
    "#### Stoichiometry of all the metabolites in a reaction"
   ]
  },
  {
   "cell_type": "code",
   "execution_count": 7,
   "metadata": {
    "colab": {
     "base_uri": "https://localhost:8080/"
    },
    "id": "Yhx0yLMR-7aJ",
    "outputId": "1bf0613d-3533-4825-d197-821de02e1ea7"
   },
   "outputs": [
    {
     "name": "stdout",
     "output_type": "stream",
     "text": [
      "akg_c -1.0\n",
      "co2_c 1.0\n",
      "coa_c -1.0\n",
      "nad_c -1.0\n",
      "nadh_c 1.0\n",
      "succoa_c 1.0\n"
     ]
    }
   ],
   "source": [
    "# metabolite within a reaction contains metabolite id and respective stoichiometry\n",
    "for met, stoich in rxn_akgdh.metabolites.items():\n",
    "    print(met, stoich)"
   ]
  },
  {
   "cell_type": "markdown",
   "metadata": {
    "id": "3Y_L6_lL-7aK"
   },
   "source": [
    "#### Stoichiometry of a certain metabolite"
   ]
  },
  {
   "cell_type": "code",
   "execution_count": 8,
   "metadata": {
    "colab": {
     "base_uri": "https://localhost:8080/"
    },
    "id": "PbMWcl-O-7aK",
    "outputId": "1bec9ead-6555-4314-e0f0-d4f382bbaf6f"
   },
   "outputs": [
    {
     "name": "stdout",
     "output_type": "stream",
     "text": [
      "stoichiometry of akg_c is -1.0\n"
     ]
    }
   ],
   "source": [
    "# Assign a metabolite object from the reaction AKGDH\n",
    "akg_stoich = rxn_akgdh.get_coefficient('akg_c')\n",
    "print(f'stoichiometry of akg_c is {akg_stoich}')"
   ]
  },
  {
   "cell_type": "markdown",
   "metadata": {
    "id": "1jpQGNZu-7aK"
   },
   "source": [
    "#### Find the objective reaction"
   ]
  },
  {
   "cell_type": "code",
   "execution_count": 9,
   "metadata": {
    "colab": {
     "base_uri": "https://localhost:8080/",
     "height": 218
    },
    "id": "IzgvnHvB-7aK",
    "outputId": "8ffbc07d-2fb1-4803-9419-98573ed7678d"
   },
   "outputs": [
    {
     "name": "stdout",
     "output_type": "stream",
     "text": [
      "The objective function is: BIOMASS_Ec_iML1515_core_75p37M\n"
     ]
    }
   ],
   "source": [
    "# iterate through the reactions and identify whether objective_coefficient is equal to 1.\n",
    "for reactions in eco_model.reactions:\n",
    "    if reactions.objective_coefficient == 1:\n",
    "        print(f'The objective function is: {reactions.id}')"
   ]
  },
  {
   "cell_type": "markdown",
   "metadata": {
    "id": "3Edu3JSi-7aL"
   },
   "source": [
    "#### Question: Check whether AKGDH is an objective reaction\n",
    "\n",
    "<!-- print(rxn_akgdh.objective_coefficient == 1) -->\n"
   ]
  },
  {
   "cell_type": "code",
   "execution_count": 10,
   "metadata": {
    "id": "Z67XqrpS-7aL",
    "outputId": "e89897c3-0726-4ba7-e91e-56c656b59412"
   },
   "outputs": [],
   "source": [
    "# Check whether AKGDH is an objective reaction\n"
   ]
  },
  {
   "cell_type": "markdown",
   "metadata": {
    "id": "BoC4sZgP-7aL"
   },
   "source": [
    "#### Checking the GPR (gene-protein-reaction association) for the reaction"
   ]
  },
  {
   "cell_type": "code",
   "execution_count": 11,
   "metadata": {
    "id": "7W2xGIl1-7aM",
    "outputId": "c42044ef-3cc1-43af-c3bc-4e0ab7c6d9d8"
   },
   "outputs": [
    {
     "name": "stdout",
     "output_type": "stream",
     "text": [
      "GPR for AKGDH is b0727 and b0116 and b0726\n"
     ]
    }
   ],
   "source": [
    "akgdh_gpr = rxn_akgdh.gene_reaction_rule\n",
    "print(f'GPR for AKGDH is {akgdh_gpr}')"
   ]
  },
  {
   "cell_type": "markdown",
   "metadata": {
    "id": "HHp1fFtu-7aM"
   },
   "source": [
    "#### Checking the bounds of this reaction"
   ]
  },
  {
   "cell_type": "code",
   "execution_count": 12,
   "metadata": {
    "colab": {
     "base_uri": "https://localhost:8080/"
    },
    "id": "lRoY9C6l-7aM",
    "outputId": "9d024d22-1e1e-48a7-e43e-63602f0e7a6a"
   },
   "outputs": [
    {
     "name": "stdout",
     "output_type": "stream",
     "text": [
      "both bounds: (0.0, 1000.0), lower bound only: 0.0, upper bound only: 1000.0\n",
      "GENES METABOLITES  METABOLITES  METABOLITES\n",
      "  ID       ID     STOICHIOMETRY COMPARTMENT\n",
      "b0727      akg_c       -1.0          c     \n",
      "b0726      co2_c        1.0          c     \n",
      "b0116      coa_c       -1.0          c     \n",
      "           nad_c       -1.0          c     \n",
      "          nadh_c        1.0          c     \n",
      "        succoa_c        1.0          c     \n"
     ]
    },
    {
     "name": "stderr",
     "output_type": "stream",
     "text": [
      "cobra/core/summary/summary.py:206 \u001b[1;31mUserWarning\u001b[0m: Setting float_format to anything other than None will cause nan to be present in the output.\n",
      "cobra/core/summary/reaction_summary.py:82 \u001b[1;31mFutureWarning\u001b[0m: The pandas.np module is deprecated and will be removed from pandas in a future version. Import numpy directly instead.\n"
     ]
    }
   ],
   "source": [
    "print(f'both bounds: {rxn_akgdh.bounds}, lower bound only: {rxn_akgdh.lower_bound}, upper bound only: {rxn_akgdh.upper_bound}') #in mmol/(gdW.hr)\n",
    "\n",
    "# summary method can also be used to determine the bounds\n",
    "print(rxn_akgdh.summary())\n",
    "#flux is in unit mmol/(gDW.hr)"
   ]
  },
  {
   "cell_type": "markdown",
   "metadata": {
    "id": "6Fc5qsnH-7aM"
   },
   "source": [
    "#### Similar to reactions, metabolites can also be queried"
   ]
  },
  {
   "cell_type": "code",
   "execution_count": 13,
   "metadata": {
    "colab": {
     "base_uri": "https://localhost:8080/"
    },
    "id": "IZzQYBEp-7aM",
    "outputId": "a28a4c3c-f862-4b9d-e21f-1d76a09f92fb"
   },
   "outputs": [
    {
     "name": "stdout",
     "output_type": "stream",
     "text": [
      "name: 2-Oxoglutarate, formula: C5H4O5, charge: -2, compartment: c\n"
     ]
    }
   ],
   "source": [
    "# assign the metabolite to a variable\n",
    "akg = eco_model.metabolites.get_by_id('akg_c')\n",
    "\n",
    "# some properties of the metabolite\n",
    "print(f'name: {akg.name}, formula: {akg.formula}, charge: {akg.charge}, compartment: {akg.compartment}')"
   ]
  },
  {
   "cell_type": "markdown",
   "metadata": {
    "id": "X86xollt-7aN"
   },
   "source": [
    "#### What are all the associated reactions for this compound?"
   ]
  },
  {
   "cell_type": "code",
   "execution_count": 14,
   "metadata": {
    "colab": {
     "base_uri": "https://localhost:8080/"
    },
    "id": "1mEEv0Oa-7aN",
    "outputId": "ebb8ca10-dd00-462a-a50f-c68f248990e2"
   },
   "outputs": [
    {
     "name": "stdout",
     "output_type": "stream",
     "text": [
      "ACOTA\tacorn_c + akg_c <=> acg5sa_c + glu__L_c\n",
      "LEUTAi\t4mop_c + glu__L_c --> akg_c + leu__L_c\n",
      "ALATA_L\takg_c + ala__L_c <=> glu__L_c + pyr_c\n",
      "PSERT\t3php_c + glu__L_c --> akg_c + pser__L_c\n",
      "AKGt2rpp\takg_p + h_p <=> akg_c + h_c\n",
      "ASPTA\takg_c + asp__L_c <=> glu__L_c + oaa_c\n",
      "ICDHyr\ticit_c + nadp_c <=> akg_c + co2_c + nadph_c\n",
      "HSTPT\tglu__L_c + imacp_c --> akg_c + hisp_c\n",
      "PHETA1\takg_c + phe__L_c <=> glu__L_c + phpyr_c\n",
      "PTRCTA\takg_c + ptrc_c --> 4abutn_c + glu__L_c\n",
      "AHGDx\tS2hglut_c + nad_c <=> akg_c + h_c + nadh_c\n",
      "OHPBAT\tglu__L_c + ohpb_c <=> akg_c + phthr_c\n",
      "SHGO\tS2hglut_c + o2_c --> akg_c + h2o2_c\n",
      "TDPAGTA\tdtdp4d6dg_c + glu__L_c --> akg_c + dtdp4addg_c\n",
      "ILETA\takg_c + ile__L_c <=> 3mop_c + glu__L_c\n",
      "CYSTA\takg_c + cys__L_c --> glu__L_c + mercppyr_c\n",
      "ABTA\t4abut_c + akg_c --> glu__L_c + sucsal_c\n",
      "GLUDy\tglu__L_c + h2o_c + nadp_c <=> akg_c + h_c + nadph_c + nh4_c\n",
      "UDPKAAT\tglu__L_c + udpLa4o_c <=> akg_c + udpLa4n_c\n",
      "SOTA\takg_c + sucorn_c --> glu__L_c + sucgsa_c\n",
      "TYRTA\takg_c + tyr__L_c <=> 34hpp_c + glu__L_c\n",
      "SDPTA\takg_c + sl26da_c <=> glu__L_c + sl2a6o_c\n",
      "AKGDH\takg_c + coa_c + nad_c --> co2_c + nadh_c + succoa_c\n",
      "VALTA\takg_c + val__L_c <=> 3mob_c + glu__L_c\n",
      "TAUDO\takg_c + o2_c + taur_c --> aacald_c + co2_c + h_c + so3_c + succ_c\n",
      "GLUSy\takg_c + gln__L_c + h_c + nadph_c --> 2.0 glu__L_c + nadp_c\n",
      "SEPHCHCS\takg_c + h_c + ichor_c --> 2sephchc_c + co2_c\n",
      "ARHGDx\tnad_c + r2hglut_c <=> akg_c + h_c + nadh_c\n"
     ]
    }
   ],
   "source": [
    "for reactions in akg.reactions:\n",
    "    print(f'{reactions.id}\\t{reactions.reaction}')"
   ]
  },
  {
   "cell_type": "markdown",
   "metadata": {
    "id": "PpT0ZjT8-7aN"
   },
   "source": [
    "#### What if I do not know the exact metabolite?"
   ]
  },
  {
   "cell_type": "code",
   "execution_count": 15,
   "metadata": {
    "colab": {
     "base_uri": "https://localhost:8080/"
    },
    "id": "n-zQF4st-7aN",
    "outputId": "7e8bd5ac-8fc9-483c-fcf5-54efac41c02a"
   },
   "outputs": [
    {
     "name": "stdout",
     "output_type": "stream",
     "text": [
      "akg_e, 2-Oxoglutarate\n",
      "akg_c, 2-Oxoglutarate\n",
      "akg_p, 2-Oxoglutarate\n"
     ]
    }
   ],
   "source": [
    "#creates a list of metabolite objects\n",
    "some_metabolite = eco_model.metabolites.query('ak')\n",
    "\n",
    "#now go through the list and query the objects\n",
    "for mets in some_metabolite:\n",
    "    print(f'{mets.id}, {mets.name}')"
   ]
  },
  {
   "cell_type": "markdown",
   "metadata": {
    "id": "H_t9lKSr-7aO"
   },
   "source": [
    "#### How do we find the reactions associated with the gene b0727?"
   ]
  },
  {
   "cell_type": "code",
   "execution_count": 16,
   "metadata": {
    "colab": {
     "base_uri": "https://localhost:8080/"
    },
    "id": "358IWUsU-7aO",
    "outputId": "3df702c2-8638-4f52-a61b-9a5ee25fab20"
   },
   "outputs": [
    {
     "name": "stdout",
     "output_type": "stream",
     "text": [
      "AKGDH 2-Oxogluterate dehydrogenase akg_c + coa_c + nad_c --> co2_c + nadh_c + succoa_c\n"
     ]
    }
   ],
   "source": [
    "#assign the gene object to a variable\n",
    "gene_query = eco_model.genes.get_by_id('b0727')\n",
    "\n",
    "#now go through the reactions associated with this gene\n",
    "for reactions in gene_query.reactions:\n",
    "    print(reactions.id, reactions.name, reactions.reaction)"
   ]
  },
  {
   "cell_type": "markdown",
   "metadata": {
    "id": "YJPq65dv-7aP"
   },
   "source": [
    "#### Why are there 1516 genes instead of 1515?"
   ]
  },
  {
   "cell_type": "code",
   "execution_count": 17,
   "metadata": {
    "colab": {
     "base_uri": "https://localhost:8080/"
    },
    "id": "qNWpXqOB-7aP",
    "outputId": "522b8fc5-3181-46b7-9597-0435c5db8d2d"
   },
   "outputs": [
    {
     "name": "stdout",
     "output_type": "stream",
     "text": [
      "The artificial genes are: ['s0001']\n"
     ]
    }
   ],
   "source": [
    "# In more recent reconstructions, spontaneous reactions have been associated with an artificial gene (s0001) and protein (S0001).\n",
    "\n",
    "# Get the list of genes that are not associated with any annotation. \n",
    "# In E. coli, genes have identifiers/locus tags: b\\d\\d\\d\\d\\d.\n",
    "# For instance b0727\n",
    "\n",
    "not_gene = [g.id for g in eco_model.genes if re.findall(r'b\\d{4}', g.id) == []]\n",
    "\n",
    "print(f'The artificial genes are: {not_gene}')"
   ]
  },
  {
   "cell_type": "markdown",
   "metadata": {
    "id": "WWqTNiiRduNP"
   },
   "source": [
    "#### Question: What are the reactions associated with this gene\n",
    "\n",
    "CODE HERE:\n",
    "\n",
    "<!-- for reactions in eco_model.genes.get_by_id(s_gene).reactions:\n",
    "    print(reactions.id, reactions.name, reactions.reaction) -->"
   ]
  },
  {
   "cell_type": "code",
   "execution_count": 18,
   "metadata": {
    "id": "WK0agCKDdqJY"
   },
   "outputs": [],
   "source": [
    "#since it is only one gene, we can assign it (the gene id) to a variable s_gene\n",
    "s_gene = not_gene[0]\n",
    "\n",
    "#now we can iterate through all the reactions associated with this gene s_gene\n"
   ]
  },
  {
   "cell_type": "markdown",
   "metadata": {
    "id": "KKTlj26O-7aP"
   },
   "source": [
    "### Simulating a model"
   ]
  },
  {
   "cell_type": "code",
   "execution_count": 19,
   "metadata": {
    "id": "1xRjWYCx-7aQ"
   },
   "outputs": [],
   "source": [
    "# solve the model with default constraints applied and assign the solution to a variable\n",
    "solution = eco_model.optimize()"
   ]
  },
  {
   "cell_type": "markdown",
   "metadata": {
    "id": "EAkIvO-y-7aQ"
   },
   "source": [
    "#### How to check for the solution"
   ]
  },
  {
   "cell_type": "code",
   "execution_count": 20,
   "metadata": {
    "colab": {
     "base_uri": "https://localhost:8080/",
     "height": 423
    },
    "id": "dSBZ5GSO-7aQ",
    "outputId": "0bcf2d71-6628-4298-9d6a-762f5a910359"
   },
   "outputs": [
    {
     "data": {
      "text/html": [
       "<div>\n",
       "<style scoped>\n",
       "    .dataframe tbody tr th:only-of-type {\n",
       "        vertical-align: middle;\n",
       "    }\n",
       "\n",
       "    .dataframe tbody tr th {\n",
       "        vertical-align: top;\n",
       "    }\n",
       "\n",
       "    .dataframe thead th {\n",
       "        text-align: right;\n",
       "    }\n",
       "</style>\n",
       "<table border=\"1\" class=\"dataframe\">\n",
       "  <thead>\n",
       "    <tr style=\"text-align: right;\">\n",
       "      <th></th>\n",
       "      <th>fluxes</th>\n",
       "      <th>reduced_costs</th>\n",
       "    </tr>\n",
       "  </thead>\n",
       "  <tbody>\n",
       "    <tr>\n",
       "      <th>SHK3Dr</th>\n",
       "      <td>0.334240</td>\n",
       "      <td>-7.187117e-17</td>\n",
       "    </tr>\n",
       "    <tr>\n",
       "      <th>DHORTS</th>\n",
       "      <td>-0.290106</td>\n",
       "      <td>2.816018e-18</td>\n",
       "    </tr>\n",
       "    <tr>\n",
       "      <th>OMPDC</th>\n",
       "      <td>0.290106</td>\n",
       "      <td>-2.656295e-17</td>\n",
       "    </tr>\n",
       "    <tr>\n",
       "      <th>G5SD</th>\n",
       "      <td>0.193865</td>\n",
       "      <td>4.553649e-18</td>\n",
       "    </tr>\n",
       "    <tr>\n",
       "      <th>CS</th>\n",
       "      <td>6.913003</td>\n",
       "      <td>2.656295e-17</td>\n",
       "    </tr>\n",
       "    <tr>\n",
       "      <th>...</th>\n",
       "      <td>...</td>\n",
       "      <td>...</td>\n",
       "    </tr>\n",
       "    <tr>\n",
       "      <th>TYRL</th>\n",
       "      <td>0.000196</td>\n",
       "      <td>-8.445935e-17</td>\n",
       "    </tr>\n",
       "    <tr>\n",
       "      <th>THZPSN3</th>\n",
       "      <td>0.000196</td>\n",
       "      <td>8.326673e-17</td>\n",
       "    </tr>\n",
       "    <tr>\n",
       "      <th>PAI2T</th>\n",
       "      <td>0.000393</td>\n",
       "      <td>-7.632783e-17</td>\n",
       "    </tr>\n",
       "    <tr>\n",
       "      <th>4HTHRK</th>\n",
       "      <td>0.000587</td>\n",
       "      <td>2.656295e-17</td>\n",
       "    </tr>\n",
       "    <tr>\n",
       "      <th>BIOMASS_Ec_iML1515_core_75p37M</th>\n",
       "      <td>0.876997</td>\n",
       "      <td>-5.495645e-15</td>\n",
       "    </tr>\n",
       "  </tbody>\n",
       "</table>\n",
       "<p>434 rows × 2 columns</p>\n",
       "</div>"
      ],
      "text/plain": [
       "                                  fluxes  reduced_costs\n",
       "SHK3Dr                          0.334240  -7.187117e-17\n",
       "DHORTS                         -0.290106   2.816018e-18\n",
       "OMPDC                           0.290106  -2.656295e-17\n",
       "G5SD                            0.193865   4.553649e-18\n",
       "CS                              6.913003   2.656295e-17\n",
       "...                                  ...            ...\n",
       "TYRL                            0.000196  -8.445935e-17\n",
       "THZPSN3                         0.000196   8.326673e-17\n",
       "PAI2T                           0.000393  -7.632783e-17\n",
       "4HTHRK                          0.000587   2.656295e-17\n",
       "BIOMASS_Ec_iML1515_core_75p37M  0.876997  -5.495645e-15\n",
       "\n",
       "[434 rows x 2 columns]"
      ]
     },
     "execution_count": 20,
     "metadata": {},
     "output_type": "execute_result"
    }
   ],
   "source": [
    "# we can convert solution to a dataframe\n",
    "solution_df = solution.to_frame()\n",
    "\n",
    "# now let's find the fluxes that are non-zero\n",
    "solution_df = solution_df[solution_df['fluxes'] != 0]\n",
    "solution_df\n"
   ]
  },
  {
   "cell_type": "markdown",
   "metadata": {
    "id": "MNcZInYO-7aQ"
   },
   "source": [
    "#### Use the *summary* method to investigate uptakes, secretions and objective value"
   ]
  },
  {
   "cell_type": "code",
   "execution_count": 21,
   "metadata": {
    "colab": {
     "base_uri": "https://localhost:8080/",
     "height": 943
    },
    "id": "DNe0TdQx-7aR",
    "outputId": "762eb8b4-f796-4bb9-f527-01f0410698bb"
   },
   "outputs": [
    {
     "data": {
      "text/html": [
       "<div>\n",
       "<style scoped>\n",
       "    .dataframe tbody tr th:only-of-type {\n",
       "        vertical-align: middle;\n",
       "    }\n",
       "\n",
       "    .dataframe tbody tr th {\n",
       "        vertical-align: top;\n",
       "    }\n",
       "\n",
       "    .dataframe thead tr th {\n",
       "        text-align: left;\n",
       "    }\n",
       "</style>\n",
       "<table border=\"1\" class=\"dataframe\">\n",
       "  <thead>\n",
       "    <tr>\n",
       "      <th></th>\n",
       "      <th colspan=\"2\" halign=\"left\">IN_FLUXES</th>\n",
       "      <th colspan=\"2\" halign=\"left\">OUT_FLUXES</th>\n",
       "      <th colspan=\"2\" halign=\"left\">OBJECTIVES</th>\n",
       "    </tr>\n",
       "    <tr>\n",
       "      <th></th>\n",
       "      <th>ID</th>\n",
       "      <th>FLUX</th>\n",
       "      <th>ID</th>\n",
       "      <th>FLUX</th>\n",
       "      <th>ID</th>\n",
       "      <th>FLUX</th>\n",
       "    </tr>\n",
       "  </thead>\n",
       "  <tbody>\n",
       "    <tr>\n",
       "      <th>0</th>\n",
       "      <td>o2_e</td>\n",
       "      <td>22.131763</td>\n",
       "      <td>h2o_e</td>\n",
       "      <td>47.162365</td>\n",
       "      <td>BIOMASS_Ec_iML1515_core_75p37M</td>\n",
       "      <td>0.876997</td>\n",
       "    </tr>\n",
       "    <tr>\n",
       "      <th>1</th>\n",
       "      <td>glc__D_e</td>\n",
       "      <td>10.000000</td>\n",
       "      <td>co2_e</td>\n",
       "      <td>24.003293</td>\n",
       "      <td>NaN</td>\n",
       "      <td>NaN</td>\n",
       "    </tr>\n",
       "    <tr>\n",
       "      <th>2</th>\n",
       "      <td>nh4_e</td>\n",
       "      <td>9.471495</td>\n",
       "      <td>h_e</td>\n",
       "      <td>8.058200</td>\n",
       "      <td>NaN</td>\n",
       "      <td>NaN</td>\n",
       "    </tr>\n",
       "    <tr>\n",
       "      <th>3</th>\n",
       "      <td>pi_e</td>\n",
       "      <td>0.845957</td>\n",
       "      <td>NaN</td>\n",
       "      <td>NaN</td>\n",
       "      <td>NaN</td>\n",
       "      <td>NaN</td>\n",
       "    </tr>\n",
       "  </tbody>\n",
       "</table>\n",
       "</div>"
      ],
      "text/plain": [
       "<cobra.core.summary.model_summary.ModelSummary at 0x2851e2140>"
      ]
     },
     "execution_count": 21,
     "metadata": {},
     "output_type": "execute_result"
    }
   ],
   "source": [
    "eco_model.summary()"
   ]
  },
  {
   "cell_type": "markdown",
   "metadata": {
    "id": "X6zJ_AKI-7aR"
   },
   "source": [
    "#### Find the objective value (i.e. biomass production)"
   ]
  },
  {
   "cell_type": "code",
   "execution_count": 22,
   "metadata": {
    "colab": {
     "base_uri": "https://localhost:8080/"
    },
    "id": "C4oPkIQb-7aR",
    "outputId": "35d53942-e6d8-4307-8157-7712807a9771"
   },
   "outputs": [
    {
     "name": "stdout",
     "output_type": "stream",
     "text": [
      "Objective value is 0.8769972144269896/hr\n"
     ]
    }
   ],
   "source": [
    "# since the objective reaction is biomass reaction, the flux through the biomass reaction is given here\n",
    "print(f'Objective value is {solution.objective_value}/hr')"
   ]
  },
  {
   "cell_type": "markdown",
   "metadata": {
    "id": "Z9Gfw5u0-7aR"
   },
   "source": [
    "#### How to find the flux through a specific reaction?\n",
    "\n",
    "1.   List item\n",
    "2.   List item\n",
    "\n"
   ]
  },
  {
   "cell_type": "code",
   "execution_count": 23,
   "metadata": {
    "colab": {
     "base_uri": "https://localhost:8080/"
    },
    "id": "4Ci1SCFz-7aR",
    "outputId": "6ed8b9dd-2aca-4e44-993b-d9bb85b16cac"
   },
   "outputs": [
    {
     "name": "stdout",
     "output_type": "stream",
     "text": [
      "The flux through AKGDH at optimial growth rate is 5.970062721906816 mmol/(gDW.hr)\n"
     ]
    }
   ],
   "source": [
    "rxn_akgdh = eco_model.reactions.AKGDH\n",
    "\n",
    "akgdh_optimal = solution['AKGDH']\n",
    "print(f'The flux through AKGDH at optimial growth rate is {akgdh_optimal} mmol/(gDW.hr)')"
   ]
  },
  {
   "cell_type": "markdown",
   "metadata": {
    "id": "j5EUG_mJ-7aR"
   },
   "source": [
    "#### Summary method to check the flux through a reaction"
   ]
  },
  {
   "cell_type": "code",
   "execution_count": 24,
   "metadata": {
    "colab": {
     "base_uri": "https://localhost:8080/",
     "height": 130
    },
    "id": "uPsKfikr-7aS",
    "outputId": "ebbe3378-2a00-437e-a292-c52c1ffbe4b1"
   },
   "outputs": [
    {
     "name": "stderr",
     "output_type": "stream",
     "text": [
      "cobra/core/summary/reaction_summary.py:82 \u001b[1;31mFutureWarning\u001b[0m: The pandas.np module is deprecated and will be removed from pandas in a future version. Import numpy directly instead.\n"
     ]
    },
    {
     "data": {
      "text/html": [
       "<div>\n",
       "<style scoped>\n",
       "    .dataframe tbody tr th:only-of-type {\n",
       "        vertical-align: middle;\n",
       "    }\n",
       "\n",
       "    .dataframe tbody tr th {\n",
       "        vertical-align: top;\n",
       "    }\n",
       "\n",
       "    .dataframe thead tr th {\n",
       "        text-align: left;\n",
       "    }\n",
       "</style>\n",
       "<table border=\"1\" class=\"dataframe\">\n",
       "  <thead>\n",
       "    <tr>\n",
       "      <th></th>\n",
       "      <th>GENES</th>\n",
       "      <th colspan=\"3\" halign=\"left\">METABOLITES</th>\n",
       "    </tr>\n",
       "    <tr>\n",
       "      <th></th>\n",
       "      <th>ID</th>\n",
       "      <th>ID</th>\n",
       "      <th>STOICHIOMETRY</th>\n",
       "      <th>COMPARTMENT</th>\n",
       "    </tr>\n",
       "  </thead>\n",
       "  <tbody>\n",
       "    <tr>\n",
       "      <th>0</th>\n",
       "      <td>b0727</td>\n",
       "      <td>akg_c</td>\n",
       "      <td>-1.0</td>\n",
       "      <td>c</td>\n",
       "    </tr>\n",
       "    <tr>\n",
       "      <th>1</th>\n",
       "      <td>b0726</td>\n",
       "      <td>co2_c</td>\n",
       "      <td>1.0</td>\n",
       "      <td>c</td>\n",
       "    </tr>\n",
       "    <tr>\n",
       "      <th>2</th>\n",
       "      <td>b0116</td>\n",
       "      <td>coa_c</td>\n",
       "      <td>-1.0</td>\n",
       "      <td>c</td>\n",
       "    </tr>\n",
       "    <tr>\n",
       "      <th>3</th>\n",
       "      <td>NaN</td>\n",
       "      <td>nad_c</td>\n",
       "      <td>-1.0</td>\n",
       "      <td>c</td>\n",
       "    </tr>\n",
       "    <tr>\n",
       "      <th>4</th>\n",
       "      <td>NaN</td>\n",
       "      <td>nadh_c</td>\n",
       "      <td>1.0</td>\n",
       "      <td>c</td>\n",
       "    </tr>\n",
       "    <tr>\n",
       "      <th>5</th>\n",
       "      <td>NaN</td>\n",
       "      <td>succoa_c</td>\n",
       "      <td>1.0</td>\n",
       "      <td>c</td>\n",
       "    </tr>\n",
       "  </tbody>\n",
       "</table>\n",
       "</div>"
      ],
      "text/plain": [
       "<cobra.core.summary.reaction_summary.ReactionSummary at 0x2851e2a40>"
      ]
     },
     "execution_count": 24,
     "metadata": {},
     "output_type": "execute_result"
    }
   ],
   "source": [
    "## using the shortcut here to get the reaction instead of .get_by_id method\n",
    "eco_model.reactions.AKGDH.summary()"
   ]
  },
  {
   "cell_type": "markdown",
   "metadata": {
    "id": "WB1eNR6h-7aS"
   },
   "source": [
    "#### Can we do something similar for metabolite objects?"
   ]
  },
  {
   "cell_type": "code",
   "execution_count": 25,
   "metadata": {
    "colab": {
     "base_uri": "https://localhost:8080/",
     "height": 692
    },
    "id": "y9XYTWmeq1CC",
    "outputId": "dbd82f3c-e450-413a-ae7d-7c937fccbe70"
   },
   "outputs": [
    {
     "data": {
      "text/html": [
       "<div>\n",
       "<style scoped>\n",
       "    .dataframe tbody tr th:only-of-type {\n",
       "        vertical-align: middle;\n",
       "    }\n",
       "\n",
       "    .dataframe tbody tr th {\n",
       "        vertical-align: top;\n",
       "    }\n",
       "\n",
       "    .dataframe thead th {\n",
       "        text-align: right;\n",
       "    }\n",
       "</style>\n",
       "<table border=\"1\" class=\"dataframe\">\n",
       "  <thead>\n",
       "    <tr style=\"text-align: right;\">\n",
       "      <th></th>\n",
       "      <th></th>\n",
       "      <th>PERCENT</th>\n",
       "      <th>FLUX</th>\n",
       "      <th>REACTION_STRING</th>\n",
       "    </tr>\n",
       "    <tr>\n",
       "      <th>RXN_STAT</th>\n",
       "      <th>ID</th>\n",
       "      <th></th>\n",
       "      <th></th>\n",
       "      <th></th>\n",
       "    </tr>\n",
       "  </thead>\n",
       "  <tbody>\n",
       "    <tr>\n",
       "      <th rowspan=\"12\" valign=\"top\">PRODUCING</th>\n",
       "      <th>ICDHyr</th>\n",
       "      <td>51.321674</td>\n",
       "      <td>6.913003</td>\n",
       "      <td>icit_c + nadp_c &lt;=&gt; akg_c + co2_c + nadph_c</td>\n",
       "    </tr>\n",
       "    <tr>\n",
       "      <th>ASPTA</th>\n",
       "      <td>19.062379</td>\n",
       "      <td>2.567693</td>\n",
       "      <td>akg_c + asp__L_c &lt;=&gt; glu__L_c + oaa_c</td>\n",
       "    </tr>\n",
       "    <tr>\n",
       "      <th>PSERT</th>\n",
       "      <td>11.184423</td>\n",
       "      <td>1.506536</td>\n",
       "      <td>3php_c + glu__L_c --&gt; akg_c + pser__L_c</td>\n",
       "    </tr>\n",
       "    <tr>\n",
       "      <th>ALATA_L</th>\n",
       "      <td>3.788252</td>\n",
       "      <td>0.510276</td>\n",
       "      <td>akg_c + ala__L_c &lt;=&gt; glu__L_c + pyr_c</td>\n",
       "    </tr>\n",
       "    <tr>\n",
       "      <th>LEUTAi</th>\n",
       "      <td>2.933303</td>\n",
       "      <td>0.395114</td>\n",
       "      <td>4mop_c + glu__L_c --&gt; akg_c + leu__L_c</td>\n",
       "    </tr>\n",
       "    <tr>\n",
       "      <th>VALTA</th>\n",
       "      <td>2.755110</td>\n",
       "      <td>0.371112</td>\n",
       "      <td>akg_c + val__L_c &lt;=&gt; 3mob_c + glu__L_c</td>\n",
       "    </tr>\n",
       "    <tr>\n",
       "      <th>SDPTA</th>\n",
       "      <td>2.415163</td>\n",
       "      <td>0.325321</td>\n",
       "      <td>akg_c + sl26da_c &lt;=&gt; glu__L_c + sl2a6o_c</td>\n",
       "    </tr>\n",
       "    <tr>\n",
       "      <th>ACOTA</th>\n",
       "      <td>1.925833</td>\n",
       "      <td>0.259409</td>\n",
       "      <td>acorn_c + akg_c &lt;=&gt; acg5sa_c + glu__L_c</td>\n",
       "    </tr>\n",
       "    <tr>\n",
       "      <th>ILETA</th>\n",
       "      <td>1.891567</td>\n",
       "      <td>0.254793</td>\n",
       "      <td>akg_c + ile__L_c &lt;=&gt; 3mop_c + glu__L_c</td>\n",
       "    </tr>\n",
       "    <tr>\n",
       "      <th>PHETA1</th>\n",
       "      <td>1.206218</td>\n",
       "      <td>0.162477</td>\n",
       "      <td>akg_c + phe__L_c &lt;=&gt; glu__L_c + phpyr_c</td>\n",
       "    </tr>\n",
       "    <tr>\n",
       "      <th>TYRTA</th>\n",
       "      <td>0.899261</td>\n",
       "      <td>0.121130</td>\n",
       "      <td>akg_c + tyr__L_c &lt;=&gt; 34hpp_c + glu__L_c</td>\n",
       "    </tr>\n",
       "    <tr>\n",
       "      <th>HSTPT</th>\n",
       "      <td>0.616817</td>\n",
       "      <td>0.083085</td>\n",
       "      <td>glu__L_c + imacp_c --&gt; akg_c + hisp_c</td>\n",
       "    </tr>\n",
       "    <tr>\n",
       "      <th rowspan=\"2\" valign=\"top\">CONSUMING</th>\n",
       "      <th>GLUDy</th>\n",
       "      <td>55.675749</td>\n",
       "      <td>7.499495</td>\n",
       "      <td>glu__L_c + h2o_c + nadp_c &lt;=&gt; akg_c + h_c + na...</td>\n",
       "    </tr>\n",
       "    <tr>\n",
       "      <th>AKGDH</th>\n",
       "      <td>44.321347</td>\n",
       "      <td>5.970063</td>\n",
       "      <td>akg_c + coa_c + nad_c --&gt; co2_c + nadh_c + suc...</td>\n",
       "    </tr>\n",
       "  </tbody>\n",
       "</table>\n",
       "</div>"
      ],
      "text/plain": [
       "<cobra.core.summary.metabolite_summary.MetaboliteSummary at 0x2851e1fc0>"
      ]
     },
     "execution_count": 25,
     "metadata": {},
     "output_type": "execute_result"
    }
   ],
   "source": [
    "eco_model.metabolites.akg_c.summary()"
   ]
  },
  {
   "cell_type": "markdown",
   "metadata": {
    "id": "ki3pxWvq-7aS"
   },
   "source": [
    "#### Sometimes model cannot be solved depending on the constraint applied"
   ]
  },
  {
   "cell_type": "code",
   "execution_count": 26,
   "metadata": {
    "colab": {
     "base_uri": "https://localhost:8080/",
     "height": 70
    },
    "id": "JQVrpyp8-7aS",
    "outputId": "8eb142bb-9311-4f39-b97d-1fc0faca28f4"
   },
   "outputs": [
    {
     "name": "stderr",
     "output_type": "stream",
     "text": [
      "cobra/util/solver.py:416 \u001b[1;31mUserWarning\u001b[0m: solver status is 'infeasible'\n"
     ]
    },
    {
     "data": {
      "text/html": [
       "<strong><em>infeasible</em> solution</strong>"
      ],
      "text/plain": [
       "<Solution infeasible at 0x2851e2fb0>"
      ]
     },
     "execution_count": 26,
     "metadata": {},
     "output_type": "execute_result"
    }
   ],
   "source": [
    "eco_model.reactions.EX_etoh_e.lower_bound = 100.\n",
    "\n",
    "eco_model.optimize()"
   ]
  },
  {
   "cell_type": "markdown",
   "metadata": {
    "id": "ADtV89Ba-7aT"
   },
   "source": [
    "### Gene and Reaction Essentiality"
   ]
  },
  {
   "cell_type": "markdown",
   "metadata": {
    "id": "ZBtY6Mw-fwGW"
   },
   "source": [
    "#### Gene Essentiality"
   ]
  },
  {
   "cell_type": "code",
   "execution_count": 27,
   "metadata": {
    "colab": {
     "base_uri": "https://localhost:8080/"
    },
    "id": "V2y_PbsR-7aT",
    "outputId": "65c2315e-aa47-4ae0-db6e-5b2c6e01911d"
   },
   "outputs": [
    {
     "name": "stdout",
     "output_type": "stream",
     "text": [
      "Before KO: 0.8769972144269733\n",
      "After KO: 0.8633703561644827\n"
     ]
    }
   ],
   "source": [
    "#reset to zero for future simulations\n",
    "eco_model.reactions.EX_etoh_e.lower_bound = 0.\n",
    "\n",
    "agene = eco_model.genes.b0727\n",
    "with eco_model: #does not change the model\n",
    "    solution = eco_model.optimize()\n",
    "    print(f'Before KO: {solution.objective_value}')\n",
    "    agene.knock_out()\n",
    "    solution = eco_model.optimize()\n",
    "    print(f'After KO: {solution.objective_value}')\n"
   ]
  },
  {
   "cell_type": "markdown",
   "metadata": {
    "id": "_xrhBkEj-7aT"
   },
   "source": [
    "#### Reaction Essentiality"
   ]
  },
  {
   "cell_type": "code",
   "execution_count": 28,
   "metadata": {
    "colab": {
     "base_uri": "https://localhost:8080/"
    },
    "id": "JkBQgm46-7aT",
    "outputId": "000c211b-e7b3-444e-e636-781f06116442"
   },
   "outputs": [
    {
     "name": "stdout",
     "output_type": "stream",
     "text": [
      "Before KO: 0.8769972144269668\n",
      "After KO: 0.8633703561644809\n"
     ]
    }
   ],
   "source": [
    "rxn_akgdh = eco_model.reactions.AKGDH\n",
    "with eco_model: #does not change the model\n",
    "    solution = eco_model.optimize()\n",
    "    print(f'Before KO: {solution.objective_value}')\n",
    "    rxn_akgdh.knock_out()\n",
    "    solution = eco_model.optimize()\n",
    "    print(f'After KO: {solution.objective_value}')"
   ]
  },
  {
   "cell_type": "markdown",
   "metadata": {
    "id": "da4y8s4xq8Fy"
   },
   "source": [
    "### Constraining the reactions to investigate their effects"
   ]
  },
  {
   "cell_type": "code",
   "execution_count": 29,
   "metadata": {
    "id": "ktEUHPSTq8rB"
   },
   "outputs": [],
   "source": [
    "### aerobic to anaerobic growth simulation\n",
    "\n",
    "o2_ex = eco_model.reactions.EX_o2_e\n",
    "etoh_ex = eco_model.reactions.EX_etoh_e\n",
    "o2_gr_etoh_list = []\n",
    "\n",
    "# we will constrain the uptake fluxes of the oxygen uptake reaction (EX_o2_e) over a range 0-20 mmol/(gDW.hr)\n",
    "for lb in np.linspace(0., 20., 100):\n",
    "    o2_ex.bounds = -lb, 1000. # we will constrain the reaction here by fixing the lower bound\n",
    "    solution = eco_model.optimize()\n",
    "\n",
    "    #assignign biomass production rate and ethanol flux\n",
    "    growth_rate = solution.objective_value\n",
    "    etoh_flux = solution['EX_etoh_e']\n",
    "\n",
    "    #now we append a dictionary to the list with keys EX_o2_e, Growth and Ethanol\n",
    "    o2_gr_etoh_list.append({'EX_o2_e': lb, 'Growth': growth_rate, 'Ethanol': etoh_flux})\n",
    "\n",
    "o2_gr_etoh_df = pd.DataFrame(o2_gr_etoh_list)\n"
   ]
  },
  {
   "cell_type": "code",
   "execution_count": 30,
   "metadata": {
    "colab": {
     "base_uri": "https://localhost:8080/",
     "height": 297
    },
    "id": "f8sDG0LA-7aU",
    "outputId": "9ed5ea00-cb45-403a-aae2-09fca942b841"
   },
   "outputs": [
    {
     "data": {
      "text/plain": [
       "Text(0.5, 0, 'Oxygen uptake flux')"
      ]
     },
     "execution_count": 30,
     "metadata": {},
     "output_type": "execute_result"
    },
    {
     "data": {
      "image/png": "[encoded data removed]",
      "text/plain": [
       "<Figure size 432x288 with 2 Axes>"
      ]
     },
     "metadata": {
      "needs_background": "light"
     },
     "output_type": "display_data"
    }
   ],
   "source": [
    "## plot it on a graph\n",
    "fig, ax = plt.subplots() #we need to axes, hence subplots is being used here\n",
    "\n",
    "ax1 = ax.twinx() #Create a twin Axes sharing the x-axis.\n",
    "\n",
    "# now plot using the pandas dataframe method plot\n",
    "o2_gr_etoh_df.plot(ax=ax, x='EX_o2_e', y='Growth', style='--', color='green')\n",
    "o2_gr_etoh_df.plot(ax=ax1, x='EX_o2_e', y='Ethanol', style='-', color='orange')\n",
    "\n",
    "#remove the legends (distracting)\n",
    "ax.get_legend().remove()\n",
    "ax1.get_legend().remove()\n",
    "\n",
    "#set the x and the y label\n",
    "ax.set_ylabel('Growth rate', color='green')\n",
    "ax1.set_ylabel('Ethanol secretion flux', color='orange')\n",
    "ax.set_xlabel('Oxygen uptake flux')\n"
   ]
  },
  {
   "cell_type": "markdown",
   "metadata": {
    "id": "X71VDDoA-7aV"
   },
   "source": [
    "#### Question: How can we interpret this result?"
   ]
  },
  {
   "cell_type": "markdown",
   "metadata": {
    "id": "hk5Kh9nW-7aV"
   },
   "source": [
    "### Take home assignment\n",
    "\n",
    "- Acetate overflow due to constraints on AKGDH reaction.\n",
    "![image.png](data:image/png;base64,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)\n",
    "\n",
    "    - Studies such as [Majewski et al., 1990] have indicated that due to constraint on the reaction catalyzed by alphaketoglutarate dehydrogenase protein, bacteria can start producing acetate. This causes lower flux through the TCA cycle, and flux being divereted towards acetate production.\n",
    "    - How can we use genome-scale model to study this phenomenon?\n",
    "    - Hint #1: Reaction catalyzed by the protein is AKGDH in iML1515 model.\n",
    "    - Hint #2: Constraint can be added by fixing the flux bounds (upper flux bound) of the reaction."
   ]
  },
  {
   "cell_type": "code",
   "execution_count": null,
   "metadata": {
    "id": "EEGFWMWxSqt3"
   },
   "outputs": [],
   "source": []
  },
  {
   "cell_type": "code",
   "execution_count": null,
   "metadata": {},
   "outputs": [],
   "source": []
  }
 ],
 "metadata": {
  "colab": {
   "provenance": [],
   "toc_visible": true
  },
  "kernelspec": {
   "display_name": "Python 3 (ipykernel)",
   "language": "python",
   "name": "python3"
  },
  "language_info": {
   "codemirror_mode": {
    "name": "ipython",
    "version": 3
   },
   "file_extension": ".py",
   "mimetype": "text/x-python",
   "name": "python",
   "nbconvert_exporter": "python",
   "pygments_lexer": "ipython3",
   "version": "3.10.1"
  }
 },
 "nbformat": 4,
 "nbformat_minor": 4
}
